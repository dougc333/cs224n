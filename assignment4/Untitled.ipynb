{
 "cells": [
  {
   "cell_type": "markdown",
   "metadata": {
    "deletable": true,
    "editable": true
   },
   "source": [
    "<h6>Dynamic Memory Networks</h6>\n",
    "<img src=\"dmn.png\">"
   ]
  },
  {
   "cell_type": "markdown",
   "metadata": {
    "deletable": true,
    "editable": true
   },
   "source": [
    "<h6>Memory Networks or Encoder/Decoder networks</h6>\n",
    "This is the precursor to Socher et al Dynamic Memory networks which won the kaggle QA competition. \n",
    "\n",
    "\n",
    "Memory network uses LSTMs.\n",
    "Socher invented a new type of bidirectional GRU\n",
    "Step 1: convert the data into a continuous representation using embeddings. Embeddings are only an approximation\n",
    "    to continuous functions. LSTM->biLSTM->GRU/biGRU.  \n",
    "Step 2: Calculate the attention vector.  \n",
    "Step 3: Compute new vector =attention*question/answer ??\n",
    "Step 4: 2 class classifier; answer is Y/N for question. "
   ]
  },
  {
   "cell_type": "code",
   "execution_count": null,
   "metadata": {
    "collapsed": true,
    "deletable": true,
    "editable": true
   },
   "outputs": [],
   "source": [
    "MatchLSTM: \n",
    "    "
   ]
  },
  {
   "cell_type": "code",
   "execution_count": null,
   "metadata": {
    "collapsed": true,
    "deletable": true,
    "editable": true
   },
   "outputs": [],
   "source": [
    "#https://github.com/keras-team/keras/blob/master/examples/babi_rnn.py\n",
    "\n",
    "from keras.models import Sequential,Model\n",
    "from keras.layers.embeddings import Embedding\n",
    "from keras.layers import GRU\n",
    "import tarfile\n",
    "import numpy as np\n",
    "\n",
    "class MatchLstm:\n",
    "    def __init__(self, vocab_size, sentence_size, embedding_size,\n",
    "                 word_embedding, initializer=tf.truncated_normal_initializer(stddev=0.1),\n",
    "                 num_class=2, window_size=4, name='MatchLstm', initial_lr=1e-3,\n",
    "                 extra_cnt=2):\n",
    "        self._vocab_size = vocab_size\n",
    "        self._sentence_size = sentence_size\n",
    "        self._embedding_size = embedding_size\n",
    "        self._word_embedding = word_embedding\n",
    "    def prep_data():\n",
    "        "
   ]
  },
  {
   "cell_type": "code",
   "execution_count": null,
   "metadata": {
    "collapsed": true,
    "deletable": true,
    "editable": true
   },
   "outputs": [],
   "source": [
    "\n",
    "sent1 = tf.placeholder(shape=[None, sentence_size], dtype=tf.int32,\n",
    "                                    name='sent1')\n",
    "sent2 = tf.placeholder(shape=[None, sentence_size], dtype=tf.int32,\n",
    "                                    name='sent2')\n",
    "    \n",
    "with tf.variable_scope('embedding'):\n",
    "    word_embedding = tf.get_variable(name='word_embedding',\n",
    "                                    shape=[vocab_size, embedding_size],\n",
    "                                    initializer=tf.constant_initializer(word_embedding),\n",
    "                                    trainable=False)\n",
    "\n",
    "embed_sent1 = tf.nn.embedding_lookup(sent1, word_embedding, 'embed_sent1')\n",
    "embed_sent2 = tf.nn.embedding_lookup(sent2, word_embedding, 'embed_sent2')\n",
    "\n",
    "\n"
   ]
  }
 ],
 "metadata": {
  "kernelspec": {
   "display_name": "Python 3",
   "language": "python",
   "name": "python3"
  },
  "language_info": {
   "codemirror_mode": {
    "name": "ipython",
    "version": 3
   },
   "file_extension": ".py",
   "mimetype": "text/x-python",
   "name": "python",
   "nbconvert_exporter": "python",
   "pygments_lexer": "ipython3",
   "version": "3.4.5"
  }
 },
 "nbformat": 4,
 "nbformat_minor": 2
}
