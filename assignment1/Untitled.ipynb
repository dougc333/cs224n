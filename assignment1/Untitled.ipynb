{
 "cells": [
  {
   "cell_type": "code",
   "execution_count": 6,
   "metadata": {},
   "outputs": [
    {
     "name": "stdout",
     "output_type": "stream",
     "text": [
      "1 <(0, 0)> True\n",
      "ix: (0, 0)\n",
      "2 <(0, 1)> True\n",
      "ix: (0, 1)\n",
      "3 <(1, 0)> True\n",
      "ix: (1, 0)\n",
      "4 <(1, 1)> True\n",
      "ix: (1, 1)\n",
      "5 <(2, 0)> True\n",
      "ix: (2, 0)\n",
      "6 <(2, 1)> False\n",
      "ix: (2, 1)\n"
     ]
    }
   ],
   "source": [
    "#test\n",
    "import numpy as np\n",
    "x=np.array([[1,2],[3,4],[5,6]])\n",
    "it = np.nditer(x, flags=['multi_index'], op_flags=['readwrite'])\n",
    "while not it.finished:\n",
    "    ix = it.multi_index\n",
    "    print (\"%d <%s>\" % (it[0], it.multi_index), it.iternext())\n",
    "    print(\"ix:\",ix)"
   ]
  },
  {
   "cell_type": "code",
   "execution_count": null,
   "metadata": {},
   "outputs": [],
   "source": []
  }
 ],
 "metadata": {
  "kernelspec": {
   "display_name": "Python 3",
   "language": "python",
   "name": "python3"
  },
  "language_info": {
   "codemirror_mode": {
    "name": "ipython",
    "version": 3
   },
   "file_extension": ".py",
   "mimetype": "text/x-python",
   "name": "python",
   "nbconvert_exporter": "python",
   "pygments_lexer": "ipython3",
   "version": "3.6.1"
  }
 },
 "nbformat": 4,
 "nbformat_minor": 2
}
